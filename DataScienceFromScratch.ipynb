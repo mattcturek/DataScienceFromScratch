{
  "nbformat": 4,
  "nbformat_minor": 0,
  "metadata": {
    "colab": {
      "provenance": [],
      "toc_visible": true,
      "authorship_tag": "ABX9TyOiIbWcW9LFylip56da4M4P",
      "include_colab_link": true
    },
    "kernelspec": {
      "name": "python3",
      "display_name": "Python 3"
    },
    "language_info": {
      "name": "python"
    }
  },
  "cells": [
    {
      "cell_type": "markdown",
      "metadata": {
        "id": "view-in-github",
        "colab_type": "text"
      },
      "source": [
        "<a href=\"https://colab.research.google.com/github/mattcturek/DataScienceFromScratch/blob/main/DataScienceFromScratch.ipynb\" target=\"_parent\"><img src=\"https://colab.research.google.com/assets/colab-badge.svg\" alt=\"Open In Colab\"/></a>"
      ]
    },
    {
      "cell_type": "markdown",
      "source": [
        "# Data Science From Scratch"
      ],
      "metadata": {
        "id": "hC2svQyZtx20"
      }
    },
    {
      "cell_type": "markdown",
      "source": [
        "# Chapter 1\n",
        "\n",
        "### Introduction"
      ],
      "metadata": {
        "id": "y9A3FfgWuArh"
      }
    },
    {
      "cell_type": "markdown",
      "source": [
        "## The Ascendance of Data\n",
        "\n",
        "We live in a world that's drowning in data. Websites track every user's every click. Your smartphone is building up a record of your location and speed every second of every day. \"Quantified selfers\" wear pedometers-on-steroids that are always recording their hear rates, movement habits, diet, and sleep patterns. Smart cars collecting driving habits, smart homes collect living habits, and smart marketers collect purchasing habits. The internet itself represents a huge graph of knowledge that contains (among other things) an enormous cross-referenced encyclopedia; domain-specific databases about movies, music,sports results, pinball machines, memes, and ocktails; and too. many government statistics (some of them nearly true!) from too many governments to wrap your head around.\n",
        "\n",
        "Buried in these data are answers to countless questions that no one's ever thought to ask. In this book, we'll learn how to find them."
      ],
      "metadata": {
        "id": "aMk8cF_quOBb"
      }
    },
    {
      "cell_type": "markdown",
      "source": [
        "## What Is Data Science?\n",
        "\n",
        "There's a joke that syas a data scientist is someone who knows more statistics than a computer sientist and more computer science than a statistician. ( I didn't say it was a good joke.) In fact, some addta scientists are - for all practical purposes - statisticians, while others are fairlky indistinguishable from softwre engineers. Some are machine learning experts, while others couldn't machine-learn their way out of kindergarten. Some are PhDs with impressive publication records, while others have never read an academic paper (shame on them). In short, pretty much no matter how you define data science, you'll find practitioners for whom the definition is totally, absolutely wrong.\n",
        "\n"
      ],
      "metadata": {
        "id": "7wcsnNUHvPwN"
      }
    },
    {
      "cell_type": "markdown",
      "source": [
        "## Finding Key Connectors\n",
        "\n",
        "It's your first day on the job at DataSciencester, and the VP of Networking is full of questions about your users. Until now he's had no one to ask, so he's very excited to have you aboard.\n",
        "\n",
        "In particular, he wants you to identify whoo the \"key connectors\" are among data scientists. To this end, he gives you adump of the entire DataSciencester network. (In real life, people don't typically hand you the data you need. Chaper 9 is devoted to getting data.)\n",
        "\n",
        "What does this data dump look like? It consists of a list of users, each represented by a <code>dict</code> that contains that user's <code>id</code> (which is a number) and <code>name</code> (which, in one of the great cosmic coincidences, rhymes with the user's <code>id</code>):"
      ],
      "metadata": {
        "id": "AK5btxTUxbE9"
      }
    },
    {
      "cell_type": "code",
      "source": [
        "users = [\n",
        "    {\"id\": 0, \"name\": \"Hero\"},\n",
        "    {\"id\": 1, \"name\": \"Dunn\"},\n",
        "    {\"id\": 2, \"name\": \"Sue\"},\n",
        "    {\"id\": 3, \"name\": \"Chi\"},\n",
        "    {\"id\": 4, \"name\": \"Thor\"},\n",
        "    {\"id\": 5, \"name\": \"Clive\"},\n",
        "    {\"id\": 6, \"name\": \"Hicks\"},\n",
        "    {\"id\": 7, \"name\": \"Devin\"},\n",
        "    {\"id\": 8, \"name\": \"Kate\"},\n",
        "    {\"id\": 9, \"name\": \"Klein\"}\n",
        "]\n",
        "\n",
        "friendship_pairs = [(0, 1), (0, 2), (1, 2), (1, 3), (2, 3), (3, 4),\n",
        "                    (4, 5), (5, 6), (5, 7), (6,8), (7,8), (8,9)]"
      ],
      "metadata": {
        "id": "Rl3M78IlyPIr"
      },
      "execution_count": null,
      "outputs": []
    },
    {
      "cell_type": "markdown",
      "source": [
        "Having the friendships represented as a list of pairs is not the easiest way to work with them. To find all the friendships for user 1, you have to iterate over every pair looking for pairs containing 1. If you had a lot of pairs, this would take a long time.\n",
        "\n",
        "Instead, let's create a <code>dict</code> where the keys are user <code>id</code>s and the values are lists of friend <code>id</code>s. (Looking things up in a <code>dict</code> is very fast.)\n",
        "\n",
        "We'll still have to look at every pair to create the <code>dict</code>, but we only have to do that once, and we'll get cheap lookups after that:"
      ],
      "metadata": {
        "id": "pOWtLP7tzfEg"
      }
    },
    {
      "cell_type": "code",
      "source": [
        "# Initialize the dict with an empty list for each user id:\n",
        "friendships = {user[\"id\"]: {} for user in users}\n",
        "\n",
        "# and loop over the friendship pairs to populate it:\n",
        "for i, j in friendship_pairs:\n",
        "  friendships[i].append(j)   # Add j as a friend of user i\n",
        "  friendships[j].append(i).  # Add i as a friend of user j"
      ],
      "metadata": {
        "id": "NvE_GdT-0UQq"
      },
      "execution_count": null,
      "outputs": []
    },
    {
      "cell_type": "markdown",
      "source": [
        "Now that we have the friendships in a <code>dict</code>, we can easilky ask questions of our graph, like \"Waht's the average number of connections?\"\n",
        "\n",
        "First we find the <i>total</i> number of connections, by summing up the lengths of all the <code>friends</code> lists:"
      ],
      "metadata": {
        "id": "6HJyBunI09A-"
      }
    },
    {
      "cell_type": "code",
      "source": [
        "def number_of_friends(user):\n",
        "  \"\"\"How many friends does _user_ have?\"\"\"\n",
        "  user_id = user[\"id\"]\n",
        "  friend_ids = friendships[user_id]\n",
        "  return len(friend_ids)\n",
        "\n",
        "total_connections = sum(number_of_friends(user) for user in users)"
      ],
      "metadata": {
        "id": "swQdavx01RNs"
      },
      "execution_count": null,
      "outputs": []
    },
    {
      "cell_type": "markdown",
      "source": [
        "And then we just divide by the number of users:"
      ],
      "metadata": {
        "id": "6r4lxVDC1uOh"
      }
    },
    {
      "cell_type": "code",
      "source": [
        "num_users = len(users)\n",
        "avg_connections = total_connections / num_users"
      ],
      "metadata": {
        "id": "mWnzT41X1w-O"
      },
      "execution_count": null,
      "outputs": []
    },
    {
      "cell_type": "markdown",
      "source": [
        "It's also easy to find the most connected people - they're the people who have the largest numbers of friends.\n",
        "\n",
        "Since there aren't very many users, we can simply sort them from \"most friends\" to \"least friends\":"
      ],
      "metadata": {
        "id": "LIwLlm8015pA"
      }
    },
    {
      "cell_type": "code",
      "source": [
        "# Create a list (user_id, number_of_friends).\n",
        "num_friends_by_id = [(user[\"id\"], number_of_friends(user)) for user in users]\n",
        "\n",
        "num_frinds_by_id.sort(key=lambda id_and_friends[1], reverse=True)"
      ],
      "metadata": {
        "id": "gbnN73Pt2FHc"
      },
      "execution_count": null,
      "outputs": []
    },
    {
      "cell_type": "markdown",
      "source": [
        "One way to think of what we've done is a way of identifiying people who are somehow central to the network. In fact, what we've just computed is the network metric <i>degree centrality</i>"
      ],
      "metadata": {
        "id": "2-F5S83A2k3Z"
      }
    },
    {
      "cell_type": "markdown",
      "source": [
        "## Data Scientists You May Know\n",
        "\n",
        "While you're still filling out new-hire paperwork, the VP of Fraternization comes by your desk. She wants to encourage more connections among your members, and she asks you to design a \"Data Scientists You May Know\" suggester.\n",
        "\n",
        "Your first instict is to suggest that users might know the friends of their friends. So you write some code to iterate over their friends and collect the friends' friends:"
      ],
      "metadata": {
        "id": "a5miQiOV3Ab8"
      }
    },
    {
      "cell_type": "code",
      "source": [
        "def foaf_ids_bad(user):\n",
        "  \"\"\"foaf is short for \" friend of a friend \" \"\"\"\n",
        "  return [foaf_id\n",
        "          for friend_id in friendships[user[\"id\"]]\n",
        "          for foaf_id in friendships[friend_id]]"
      ],
      "metadata": {
        "id": "eakQ0k--3g-D"
      },
      "execution_count": null,
      "outputs": []
    },
    {
      "cell_type": "markdown",
      "source": [
        "Knowing that people are friends of friends in multiple ways seems like interesting information, so maybe instead we should produce a <i>count</i> of mutual friends. And we should probably exclude people already known to the user:"
      ],
      "metadata": {
        "id": "xsy2MhVkULNn"
      }
    },
    {
      "cell_type": "code",
      "source": [
        "from collections import Counter\n",
        "\n",
        "def friends_of_friends(user):\n",
        "  user_id = user[\"id\"]\n",
        "  return Counter(\n",
        "      foaf_id for friend_id in friendships[user_id]\n",
        "      for foaf_id in friendships[friend_id]\n",
        "      if foaf_id != user_id\n",
        "      and foaf_id not in friendships[user_id]\n",
        "  )"
      ],
      "metadata": {
        "id": "_DaU_5kuUZkb"
      },
      "execution_count": null,
      "outputs": []
    },
    {
      "cell_type": "markdown",
      "source": [
        "As a data scientist, you know that you also might enjoy meeting users with siimlar interests. (This is a good example of the \"substantive expertise\" aspect of data science.) After asking around, you manage to get your hands on this data, as a list of pairs <code>(user_id, interest):</code>"
      ],
      "metadata": {
        "id": "Fi76nJ20Uy1x"
      }
    },
    {
      "cell_type": "code",
      "source": [
        "interests = [\n",
        "    (0, \"Hadoop\"), (0, \"Big Data\"), (0, \"HBase\"), (0, \"Java\"),\n",
        "    (0, \"Spark\"), (0, \"Storm\"), (0, \"Cassandra\"),\n",
        "    (1, \"NoSQL\"), (1, \"MongoDB\"), (1, \"Cassandra\"), (1, \"HBase\"),\n",
        "    (1, \"Postgres\"), (2, \"Python\"), (2, \"scikit-learn\"), (2, \"scipy\"),\n",
        "    (2, \"numpy\"), (2, \"statsmodels\"), (2, \"pandas\"), (3, \"R\"), (3, \"Python\"),\n",
        "    (3, \"statistics\"), (3, \"regression\"), (3, \"probability\"),\n",
        "    (4, \"machine learning\"), (4, \"regression\"), (4, \"decision trees\"),\n",
        "    (4, \"libsvm\"), (5, \"Python\"), (5, \"R\"), (5, \"Java\"), (5, \"C++\"),\n",
        "    (5, \"Askell\"), (5, \"programming languages\"), (6, \"statstics\"),\n",
        "    (6, \"probability\"), (6, \"mathematics\"), (6, \"theory\"),\n",
        "    (7, \"machine learning\"), (7 \"scikit-learn\"), (7, \"Mahout\"),\n",
        "    (7, \"neural networks\"), (8, \"neural networks\"), (8, \"deep learning\"),\n",
        "    (8, \"Bid Data\"), (8, \"artificial intelligence\"), (9, \"Hadoop\"),\n",
        "    (0, \"Java\"), (9, \"MapReduce\"), (9, \"Big Data\")\n",
        "]"
      ],
      "metadata": {
        "id": "lB9fimhRVGbi"
      },
      "execution_count": null,
      "outputs": []
    },
    {
      "cell_type": "markdown",
      "source": [
        "For example, Hero (id 0) has no friends in common with Klein (id 9), but they share interests in Java and Big Data.\n",
        "\n",
        "It's easy to build a function that finds users with a certain interest:"
      ],
      "metadata": {
        "id": "DlxPjFokXIWX"
      }
    },
    {
      "cell_type": "code",
      "source": [
        "def data_scientists_who_like(target_interest):\n",
        "  \"\"\"Find the ids of all the users who like the target interest.\"\"\"\n",
        "  return [user_id\n",
        "          for user_id, user_interest in interests\n",
        "          if user_interst == target_interest]"
      ],
      "metadata": {
        "id": "JWoy2j_gXYgS"
      },
      "execution_count": null,
      "outputs": []
    },
    {
      "cell_type": "markdown",
      "source": [
        "This owrks, but it has to examine the whole list of interests for every search. If we have a lot of users and interests (or if we just want to do  a lot of searches), we're probably better off building an index from interests to users:"
      ],
      "metadata": {
        "id": "Th-2aJdIYb8y"
      }
    },
    {
      "cell_type": "code",
      "source": [
        "# Keys are interests, values are lists of user_ids with that interest\n",
        "\n",
        "from collections import defaultdict\n",
        "\n",
        "user_ids_by_interest = defaultdict(list)\n",
        "\n",
        "for user_id, interst in intersts:\n",
        "  user_ids_by_interest[interest].append(user_id)"
      ],
      "metadata": {
        "id": "xqGC5f3xYpd-"
      },
      "execution_count": null,
      "outputs": []
    },
    {
      "cell_type": "markdown",
      "source": [
        "And another from users to interests:"
      ],
      "metadata": {
        "id": "1qy7jDrHY_o1"
      }
    },
    {
      "cell_type": "code",
      "source": [
        "# Keys are user_ids, values are lists of interests for that user_id\n",
        "\n",
        "from collections import defaultdict\n",
        "\n",
        "interests_by_user_id = defaultdict(list)\n",
        "\n",
        "for user_id, interest in interests:\n",
        "  interests_by_user_id[user_id].append(interest)"
      ],
      "metadata": {
        "id": "TWodSZBpZDEH"
      },
      "execution_count": null,
      "outputs": []
    },
    {
      "cell_type": "markdown",
      "source": [
        "Now it's easy to find who has the most interests in common with a given user:\n",
        "\n",
        " - Iterate over the list\n",
        " - For each interest, iterate over the other users with that interst\n",
        " - Keep count of how many times we see each other user\n",
        "\n",
        "In code:"
      ],
      "metadata": {
        "id": "lSK6HhbNZX5U"
      }
    },
    {
      "cell_type": "code",
      "source": [
        "def most_common_interests_with(user):\n",
        "  return Counter(\n",
        "      interested_user_id for interests in interests_by_user_id[user[\"id\"]]\n",
        "      for interested_user_id in user_ids_by_interest[interest]\n",
        "      if interested_user_id != user[\"id\"]\n",
        "  )"
      ],
      "metadata": {
        "id": "k5PJWjWCZoO-"
      },
      "execution_count": null,
      "outputs": []
    },
    {
      "cell_type": "markdown",
      "source": [
        "We could then use this to build a richer \"Data Scientists You May Know\" feature based on a combination of mutual friends and mutaul interests. We'll explore these kinds of applications in Chapter 23."
      ],
      "metadata": {
        "id": "rnOPR5Nel7WF"
      }
    },
    {
      "cell_type": "markdown",
      "source": [
        "## Salaries and Experience\n",
        "\n",
        "Right as you head to lunch, the VP of Public Relations asks if you can provide some fun facts about how much data scientists earn. Salary data is of course sensitive, but he manages to provide you an anonymouse dataset containing each user's <code>salary</code> (in dollars) and <code>tenure</code> as a data scientist (in years)."
      ],
      "metadata": {
        "id": "RN3wLEbhlRt0"
      }
    },
    {
      "cell_type": "code",
      "source": [
        "salaries_and_tenures = [\n",
        "    (83000, 8.7), (88000, 8.1),\n",
        "    (48000, 0.7), (76000, 6),\n",
        "    (69000, 6.5), (67000, 7.5),\n",
        "    (60000, 2.5), (83000, 10),\n",
        "    (48000, 1.9), (63000, 4.2)]"
      ],
      "metadata": {
        "id": "Gi6Jwexs2EuG"
      },
      "execution_count": null,
      "outputs": []
    },
    {
      "cell_type": "markdown",
      "source": [
        "The natural first step is to plot the data (which we'll see how to do in Chapter 3).\n",
        "\n",
        "It seems clear that people with more experience tend to earn more. How can you turn this into a fun fact? Your first idea is to look at the average salary for each tenure:"
      ],
      "metadata": {
        "id": "tcZ9BW5c2jRJ"
      }
    },
    {
      "cell_type": "code",
      "source": [
        "# Keys are years, values are lists of the salaries for each tenure.\n",
        "salary_by_tenure = defaultdict(list)\n",
        "\n",
        "for salary, tenure in salaries_and_tenures:\n",
        "  salary_by_tenure[tenure].append(salary)\n",
        "\n",
        "# Keys are years, each value is average salary for that tenure.\n",
        "average_salary_by_tenure = {\n",
        "    tenure: sum(salaries) / len(salaries)\n",
        "    for tenure, salaries in salary_by_tenure.items()\n",
        "}"
      ],
      "metadata": {
        "id": "pA_4GYW425iR"
      },
      "execution_count": null,
      "outputs": []
    }
  ]
}